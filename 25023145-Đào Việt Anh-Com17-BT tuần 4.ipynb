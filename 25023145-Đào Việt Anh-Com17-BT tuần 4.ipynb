{
 "cells": [
  {
   "cell_type": "markdown",
   "id": "3ce5887d",
   "metadata": {},
   "source": [
    "W3A6"
   ]
  },
  {
   "cell_type": "code",
   "execution_count": 7,
   "id": "75dee424",
   "metadata": {},
   "outputs": [
    {
     "name": "stdout",
     "output_type": "stream",
     "text": [
      "Odd\n"
     ]
    }
   ],
   "source": [
    "a=int(input(\"Nhập số tại đây: \"))\n",
    "if a%2==0:\n",
    "    print(\"Even\")\n",
    "else: print(\"Odd\")\n"
   ]
  },
  {
   "cell_type": "markdown",
   "id": "e55be18d",
   "metadata": {},
   "source": [
    "W3A7"
   ]
  },
  {
   "cell_type": "code",
   "execution_count": 10,
   "id": "d0310dcc",
   "metadata": {},
   "outputs": [
    {
     "name": "stdout",
     "output_type": "stream",
     "text": [
      "Yes\n"
     ]
    }
   ],
   "source": [
    "a=int(input(\"Nhập số thứ nhất: \"))\n",
    "b=int(input(\"Nhập số thứ hai: \"))\n",
    "if a<0 and b<0:\n",
    "    print(\"Yes\")\n",
    "else: print(\"No\")"
   ]
  },
  {
   "cell_type": "markdown",
   "id": "09de078c",
   "metadata": {},
   "source": [
    "W3A8"
   ]
  },
  {
   "cell_type": "code",
   "execution_count": 11,
   "id": "080a73bc",
   "metadata": {},
   "outputs": [
    {
     "name": "stdout",
     "output_type": "stream",
     "text": [
      "True\n"
     ]
    }
   ],
   "source": [
    "a=input(\"Nhập chuỗi thứ nhất: \")\n",
    "b=input(\"Nhập chuỗi thứ hai: \")\n",
    "if len(a)>len(b):\n",
    "    print(\"True\")\n",
    "else: print(\"False\")"
   ]
  },
  {
   "cell_type": "markdown",
   "id": "d9693760",
   "metadata": {},
   "source": [
    "W3A4"
   ]
  },
  {
   "cell_type": "code",
   "execution_count": 12,
   "id": "e900a57f",
   "metadata": {},
   "outputs": [
    {
     "name": "stdout",
     "output_type": "stream",
     "text": [
      "Kết quả của phép tính 8//3= 2\n"
     ]
    }
   ],
   "source": [
    "m=int(input(\"Nhập số thứ nhất: \"))\n",
    "n=int(input(\"Nhập số thứ hai: \"))\n",
    "result=m//n\n",
    "print(f\"Kết quả của phép tính {m}//{n}=\",result)"
   ]
  },
  {
   "cell_type": "markdown",
   "id": "9e88515d",
   "metadata": {},
   "source": [
    "W3A5"
   ]
  },
  {
   "cell_type": "code",
   "execution_count": 28,
   "id": "469fc059",
   "metadata": {},
   "outputs": [
    {
     "name": "stdout",
     "output_type": "stream",
     "text": [
      "Kết quả của phép tính 8//3= 3\n"
     ]
    }
   ],
   "source": [
    "import math\n",
    "m=int(input(\"Nhập số thứ nhất: \"))\n",
    "n=int(input(\"Nhập số thứ hai: \"))\n",
    "result=math.ceil(m/n)\n",
    "print(f\"Kết quả của phép tính {m}//{n}=\",result)"
   ]
  },
  {
   "cell_type": "markdown",
   "id": "bd9e48c8",
   "metadata": {},
   "source": [
    "W3A10"
   ]
  },
  {
   "cell_type": "code",
   "execution_count": 14,
   "id": "b44d133c",
   "metadata": {},
   "outputs": [
    {
     "data": {
      "text/plain": [
       "7"
      ]
     },
     "execution_count": 14,
     "metadata": {},
     "output_type": "execute_result"
    }
   ],
   "source": [
    "a=int(input(\"Nhập số thứ nhất: \"))\n",
    "b=int(input(\"Nhập số thứ hai: \"))\n",
    "c=int(input(\"Nhập số thứ ba: \"))\n",
    "d=int(input(\"Nhập số thứ bốn: \"))\n",
    "max(a,b,c,d)"
   ]
  },
  {
   "cell_type": "markdown",
   "id": "547d5bed",
   "metadata": {},
   "source": [
    "W3A15"
   ]
  },
  {
   "cell_type": "code",
   "execution_count": 15,
   "id": "6248f714",
   "metadata": {},
   "outputs": [
    {
     "name": "stdout",
     "output_type": "stream",
     "text": [
      "Yếu\n"
     ]
    }
   ],
   "source": [
    "DTB=float(input(\"Nhập điểm trung bình: \"))\n",
    "if DTB>=8.0: print(\"Giỏi\")\n",
    "elif DTB>=6.5: print(\"Khá\")\n",
    "elif DTB>=5.0: print(\"Trung bình\")\n",
    "else: print(\"Yếu\")"
   ]
  },
  {
   "cell_type": "markdown",
   "id": "f24ab5ac",
   "metadata": {},
   "source": [
    "W3A12"
   ]
  },
  {
   "cell_type": "code",
   "execution_count": 16,
   "id": "5803f3ef",
   "metadata": {},
   "outputs": [
    {
     "name": "stdout",
     "output_type": "stream",
     "text": [
      "No\n"
     ]
    }
   ],
   "source": [
    "n=int(input(\"Nhập năm muốn kiểm tra: \"))\n",
    "if (n%4==0 and n%100!=0) or n%400==0:\n",
    "    print(\"Yes\")\n",
    "else: print(\"No\")\n"
   ]
  },
  {
   "cell_type": "markdown",
   "id": "7f0b749b",
   "metadata": {},
   "source": [
    "W3A3"
   ]
  },
  {
   "cell_type": "code",
   "execution_count": 27,
   "id": "fe11e354",
   "metadata": {},
   "outputs": [
    {
     "name": "stdout",
     "output_type": "stream",
     "text": [
      "8 là một lũy thừa của 2\n"
     ]
    }
   ],
   "source": [
    "n=int(input(\"Nhập một số: \"))\n",
    "if n & (n-1) == 0:\n",
    "    print(f\"{n} là một lũy thừa của 2\")\n",
    "else: print(f\"{n} không là một lũy thừa của 2\")"
   ]
  },
  {
   "cell_type": "markdown",
   "id": "6ffd37bb",
   "metadata": {},
   "source": [
    "W3A2"
   ]
  },
  {
   "cell_type": "code",
   "execution_count": 23,
   "id": "791de3d2",
   "metadata": {},
   "outputs": [
    {
     "name": "stdout",
     "output_type": "stream",
     "text": [
      "98\n",
      "89\n"
     ]
    }
   ],
   "source": [
    "a=int(input())\n",
    "b=int(input())\n",
    "\n",
    "a=a^b\n",
    "b=b^a\n",
    "a=a^b\n",
    "\n",
    "print(a)\n",
    "print(b)"
   ]
  },
  {
   "cell_type": "markdown",
   "id": "7c0161b8",
   "metadata": {},
   "source": [
    "W3A9"
   ]
  },
  {
   "cell_type": "code",
   "execution_count": 29,
   "id": "cf1ea7f0",
   "metadata": {},
   "outputs": [
    {
     "name": "stdout",
     "output_type": "stream",
     "text": [
      "(a,b,c)= (5, 6, 7) tạo thành một tam giác\n"
     ]
    }
   ],
   "source": [
    "a=int(input(\"Độ dài cạnh thứ nhất: \"))\n",
    "b=int(input(\"Độ dài cạnh thứ hai: \"))\n",
    "c=int(input(\"Độ dài cạnh thứ ba: \"))\n",
    "if a+b>c and b+c>a and a+c>b:\n",
    "    if a>0 and b>0 and c>0:\n",
    "        print(\"(a,b,c)=\",(a,b,c),\"tạo thành một tam giác\")\n",
    "else: print(\"(a,b,c)=\",(a,b,c),\"không tạo thành một tam giác\")"
   ]
  },
  {
   "cell_type": "markdown",
   "id": "fe7441ad",
   "metadata": {},
   "source": [
    "W3A11"
   ]
  },
  {
   "cell_type": "code",
   "execution_count": 32,
   "id": "4423236f",
   "metadata": {},
   "outputs": [
    {
     "name": "stdout",
     "output_type": "stream",
     "text": [
      "Tam giác thường\n"
     ]
    }
   ],
   "source": [
    "a=int(input(\"Độ dài cạnh thứ nhất: \"))\n",
    "b=int(input(\"Độ dài cạnh thứ hai: \"))\n",
    "c=int(input(\"Độ dài cạnh thứ ba: \"))\n",
    "if a+b>c and b+c>a and a+c>b:\n",
    "    if a>0 and b>0 and c>0:\n",
    "        if a==b==c:print(\"Tam giác đều\")\n",
    "        elif (a==b!=c) or (a!=b==c) or (a==c!=b):\n",
    "            print(\"Tam giác cân\")\n",
    "        elif a!=b!=c:\n",
    "            print(\"Tam giác thường\")\n",
    "else: print(\"Không phải tam giác\")"
   ]
  },
  {
   "cell_type": "markdown",
   "id": "6ba56c0e",
   "metadata": {},
   "source": [
    "W3A14"
   ]
  },
  {
   "cell_type": "code",
   "execution_count": 33,
   "id": "49c5c4fe",
   "metadata": {},
   "outputs": [
    {
     "name": "stdout",
     "output_type": "stream",
     "text": [
      "Nghiệm của phương trình là:  -1.25\n"
     ]
    }
   ],
   "source": [
    "a=float(input(\"Nhập số thứ nhất: \"))\n",
    "b=float(input(\"Nhập số thứ hai: \"))\n",
    "x=-b/a\n",
    "if a==0: print(\"Vô nghiệm\")\n",
    "elif x==0: print(\"Vô số nghiệm\")\n",
    "else: print(\"Nghiệm của phương trình là: \",x)"
   ]
  }
 ],
 "metadata": {
  "kernelspec": {
   "display_name": "Python 3",
   "language": "python",
   "name": "python3"
  },
  "language_info": {
   "codemirror_mode": {
    "name": "ipython",
    "version": 3
   },
   "file_extension": ".py",
   "mimetype": "text/x-python",
   "name": "python",
   "nbconvert_exporter": "python",
   "pygments_lexer": "ipython3",
   "version": "3.13.7"
  }
 },
 "nbformat": 4,
 "nbformat_minor": 5
}
