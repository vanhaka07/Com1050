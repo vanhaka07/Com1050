{
  "nbformat": 4,
  "nbformat_minor": 0,
  "metadata": {
    "colab": {
      "provenance": []
    },
    "kernelspec": {
      "name": "python3",
      "display_name": "Python 3"
    },
    "language_info": {
      "name": "python"
    }
  },
  "cells": [
    {
      "cell_type": "code",
      "execution_count": 1,
      "metadata": {
        "colab": {
          "base_uri": "https://localhost:8080/"
        },
        "id": "lUoBNUEO7-I0",
        "outputId": "bdd20d1f-5068-4d54-a115-e43c012a2109"
      },
      "outputs": [
        {
          "output_type": "stream",
          "name": "stdout",
          "text": [
            "Nhap diem Toan: 9\n",
            "Nhap diem Ly: 6\n",
            "Nhap diem Hoa: 8\n",
            "Nhap diem Anh: 5\n",
            "Trung Binh\n"
          ]
        }
      ],
      "source": [
        "T = int(input(\"Nhap diem Toan: \"))\n",
        "L = int(input(\"Nhap diem Ly: \"))\n",
        "H = int(input(\"Nhap diem Hoa: \"))\n",
        "A = int(input(\"Nhap diem Anh: \"))\n",
        "DTB = (T + L + H + A)/4\n",
        "if(DTB >= 9) :print(\"Xuat Sac\")\n",
        "elif(DTB>=8 and DTB<9) :print(\"Gioi\")\n",
        "elif(DTB>=7 and DTB<8) :print(\"Trung Binh\")\n",
        "elif(DTB>=5 and DTB<7) :print(\"Kha\")"
      ]
    },
    {
      "cell_type": "code",
      "source": [
        "x= float(input(\"Nhap chieu cao: \"))\n",
        "y= int(input(\"Nhap can nang: \"))\n",
        "BMI = y/x**2\n",
        "if(BMI<18.5) :print(\"Thieu can\")\n",
        "elif(18.5<=BMI<25) :print(\"Binh thuong\")\n",
        "elif(25<=BMI<30) :print(\"Thua can\")\n",
        "elif(BMI>=30) :print(\"Beo phi\")"
      ],
      "metadata": {
        "colab": {
          "base_uri": "https://localhost:8080/"
        },
        "id": "oZTbQkIZ8JAx",
        "outputId": "ab1c6038-4c72-4fbe-961e-49ed4ed9aced"
      },
      "execution_count": 5,
      "outputs": [
        {
          "output_type": "stream",
          "name": "stdout",
          "text": [
            "Nhap chieu cao: 1.7\n",
            "Nhap can nang: 60\n",
            "Binh thuong\n"
          ]
        }
      ]
    },
    {
      "cell_type": "code",
      "source": [
        "def main():\n",
        "    n = int(input(\"Nhập số lượng mặt hàng: \"))\n",
        "    items = []\n",
        "\n",
        "    for i in range(n):\n",
        "        print(f\"\\nMặt hàng {i+1}:\")\n",
        "        name = input(\"  Tên mặt hàng: \")\n",
        "        qty = int(input(\"  Số lượng: \"))\n",
        "        price = float(input(\"  Đơn giá ($): \"))\n",
        "        total = qty * price\n",
        "        items.append([name, qty, price, total])\n",
        "\n",
        "    # Tính tổng hóa đơn\n",
        "    subtotal = sum(item[3] for item in items)\n",
        "\n",
        "    # Áp dụng giảm giá\n",
        "    discount = 0\n",
        "    if subtotal >= 100:\n",
        "        discount = 0.1 * subtotal\n",
        "    elif subtotal >= 50:\n",
        "        discount = 0.05 * subtotal\n",
        "\n",
        "    final_total = subtotal - discount\n",
        "\n",
        "    # In hóa đơn dạng bảng\n",
        "    print(\"\\n===== HÓA ĐƠN HIỆU SÁCH =====\")\n",
        "    print(f\"{'Tên hàng':20} {'SL':>5} {'Đơn giá($)':>12} {'Thành tiền($)':>15}\")\n",
        "    print(\"-\"*60)\n",
        "\n",
        "    for name, qty, price, total in items:\n",
        "        print(f\"{name:20} {qty:5} {price:12.2f} {total:15.2f}\")\n",
        "\n",
        "    print(\"-\"*60)\n",
        "    print(f\"{'Tổng cộng:':>40} {subtotal:15.2f}\")\n",
        "    print(f\"{'Giảm giá:':>40} {discount:15.2f}\")\n",
        "    print(f\"{'Phải trả:':>40} {final_total:15.2f}\")\n",
        "    print(\"=\"*60)\n",
        "\n",
        "\n",
        "if __name__ == \"__main__\":\n",
        "    main()\n"
      ],
      "metadata": {
        "colab": {
          "base_uri": "https://localhost:8080/"
        },
        "id": "d7Wn89kADvLo",
        "outputId": "c5d14a23-e833-40ef-a355-48d66abb8122"
      },
      "execution_count": 7,
      "outputs": [
        {
          "output_type": "stream",
          "name": "stdout",
          "text": [
            "Nhập số lượng mặt hàng: 3\n",
            "\n",
            "Mặt hàng 1:\n",
            "  Tên mặt hàng: Bút\n",
            "  Số lượng: 5\n",
            "  Đơn giá ($): 2\n",
            "\n",
            "Mặt hàng 2:\n",
            "  Tên mặt hàng: Vở\n",
            "  Số lượng: 2\n",
            "  Đơn giá ($): 5\n",
            "\n",
            "Mặt hàng 3:\n",
            "  Tên mặt hàng: Thước kẻ\n",
            "  Số lượng: 3\n",
            "  Đơn giá ($): 4\n",
            "\n",
            "===== HÓA ĐƠN HIỆU SÁCH =====\n",
            "Tên hàng                SL   Đơn giá($)   Thành tiền($)\n",
            "------------------------------------------------------------\n",
            "Bút                      5         2.00           10.00\n",
            "Vở                       2         5.00           10.00\n",
            "Thước kẻ                 3         4.00           12.00\n",
            "------------------------------------------------------------\n",
            "                              Tổng cộng:           32.00\n",
            "                               Giảm giá:            0.00\n",
            "                               Phải trả:           32.00\n",
            "============================================================\n"
          ]
        }
      ]
    }
  ]
}