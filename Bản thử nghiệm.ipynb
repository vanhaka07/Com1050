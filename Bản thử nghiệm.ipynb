{
 "cells": [
  {
   "cell_type": "code",
   "execution_count": 1,
   "id": "b5aa7939",
   "metadata": {},
   "outputs": [
    {
     "name": "stdout",
     "output_type": "stream",
     "text": [
      "Hllo,World!\n"
     ]
    }
   ],
   "source": [
    "print(\"Hllo,World!\")"
   ]
  },
  {
   "cell_type": "code",
   "execution_count": 2,
   "id": "7649eaa1",
   "metadata": {},
   "outputs": [
    {
     "name": "stdout",
     "output_type": "stream",
     "text": [
      "465\n"
     ]
    }
   ],
   "source": [
    "codinates=(123,465)\n",
    "print(codinates[1])"
   ]
  },
  {
   "cell_type": "code",
   "execution_count": 9,
   "id": "15e07174",
   "metadata": {},
   "outputs": [
    {
     "name": "stdout",
     "output_type": "stream",
     "text": [
      "456\n"
     ]
    }
   ],
   "source": [
    "x=(123,456)\n",
    "print(x[1])"
   ]
  },
  {
   "cell_type": "code",
   "execution_count": 5,
   "id": "026a7229",
   "metadata": {},
   "outputs": [
    {
     "name": "stdout",
     "output_type": "stream",
     "text": [
      "Tôi muốn trở thành Superman\n",
      "Để đánh bại Người nhện\n"
     ]
    }
   ],
   "source": [
    "x=\"Superman\"\n",
    "print(f\"Tôi muốn trở thành {x}\")\n",
    "x=\"Người nhện\"\n",
    "print(f\"Để đánh bại {x}\")\n"
   ]
  },
  {
   "cell_type": "code",
   "execution_count": 11,
   "id": "9a79f837",
   "metadata": {},
   "outputs": [
    {
     "name": "stdout",
     "output_type": "stream",
     "text": [
      "Tờ mờ sáng \n",
      "Học lập trình\n"
     ]
    }
   ],
   "source": [
    "print(\"\"\"Tờ mờ sáng \n",
    "Học lập trình\"\"\")"
   ]
  },
  {
   "cell_type": "code",
   "execution_count": 13,
   "id": "f62e4752",
   "metadata": {},
   "outputs": [
    {
     "name": "stdout",
     "output_type": "stream",
     "text": [
      "Xin chao mn,toi ten la Vanh\n",
      "Nam nay toi 18 tuoi\n"
     ]
    }
   ],
   "source": [
    "def say_hello(name,age):\n",
    "    print(f\"Xin chao mn,toi ten la {name}\")\n",
    "    print(f\"Nam nay toi {age} tuoi\")\n",
    "\n",
    "say_hello(\"Vanh\",18)    \n"
   ]
  },
  {
   "cell_type": "code",
   "execution_count": 19,
   "id": "ce657df8",
   "metadata": {},
   "outputs": [
    {
     "data": {
      "text/plain": [
       "5"
      ]
     },
     "execution_count": 19,
     "metadata": {},
     "output_type": "execute_result"
    }
   ],
   "source": [
    "def add(a,b):\n",
    "    return a+b\n",
    "\n",
    "add(2,3)    "
   ]
  },
  {
   "cell_type": "code",
   "execution_count": null,
   "id": "e4c3a826",
   "metadata": {},
   "outputs": [],
   "source": [
    "def so_sanh():\n",
    "    a=input(\"So thu nhat: \")\n",
    "    b=input(\"So thu hai: \")\n",
    "    if a<b:\n",
    "        print(\"a nho hon b\")\n",
    "    elif a>b:\n",
    "        print(\"a lon hon b\")\n",
    "\n",
    "so_sanh()            "
   ]
  },
  {
   "cell_type": "code",
   "execution_count": 39,
   "id": "2106653c",
   "metadata": {},
   "outputs": [
    {
     "name": "stdout",
     "output_type": "stream",
     "text": [
      "a+b= 7\n"
     ]
    }
   ],
   "source": [
    "a=3\n",
    "b=4\n",
    "print(\"a+b=\",a+b)\n"
   ]
  },
  {
   "cell_type": "code",
   "execution_count": 46,
   "id": "7940bbf5",
   "metadata": {},
   "outputs": [
    {
     "data": {
      "text/plain": [
       "125"
      ]
     },
     "execution_count": 46,
     "metadata": {},
     "output_type": "execute_result"
    }
   ],
   "source": [
    "pow(5,3)"
   ]
  },
  {
   "cell_type": "code",
   "execution_count": null,
   "id": "366c2b07",
   "metadata": {},
   "outputs": [],
   "source": [
    "name=input(\"Nhập tên tại đây: \")\n",
    "print(\"Xin chào, \"+name)"
   ]
  }
 ],
 "metadata": {
  "kernelspec": {
   "display_name": "Python 3",
   "language": "python",
   "name": "python3"
  },
  "language_info": {
   "codemirror_mode": {
    "name": "ipython",
    "version": 3
   },
   "file_extension": ".py",
   "mimetype": "text/x-python",
   "name": "python",
   "nbconvert_exporter": "python",
   "pygments_lexer": "ipython3",
   "version": "3.13.7"
  }
 },
 "nbformat": 4,
 "nbformat_minor": 5
}
